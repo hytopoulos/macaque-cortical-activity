{
 "cells": [
  {
   "cell_type": "code",
   "execution_count": 1,
   "metadata": {},
   "outputs": [],
   "source": [
    "import sklearn as sk\n",
    "import scipy as sp\n",
    "import pandas as pd\n",
    "import mne\n",
    "import mne_connectivity\n",
    "import numpy as np"
   ]
  },
  {
   "cell_type": "code",
   "execution_count": 2,
   "metadata": {},
   "outputs": [
    {
     "data": {
      "text/plain": [
       "{'__header__': b'MATLAB 5.0 MAT-file, Platform: MACI, Created on: Thu Jul  7 19:42:14 2011',\n",
       " '__version__': '1.0',\n",
       " '__globals__': [],\n",
       " 'LFP': array([[-136, -123, -122, ...,  -38,  -20,   -5]], dtype=int16)}"
      ]
     },
     "execution_count": 2,
     "metadata": {},
     "output_type": "execute_result"
    }
   ],
   "source": [
    "#Load a mat file and corresponding metadata\n",
    "example_mat = sp.io.loadmat('data/20110706/LFP_ch1.mat')\n",
    "example_time_info = sp.io.loadmat('data/20110706/Movie_start_time.mat')\n",
    "example_task_info = sp.io.loadmat('data/20110706/Task_info.mat')\n",
    "\n",
    "example_mat"
   ]
  },
  {
   "cell_type": "code",
   "execution_count": 3,
   "metadata": {},
   "outputs": [],
   "source": [
    "#given a directory, load the LFP files in that directory as channels\n",
    "data = []\n",
    "directory = \"20100708\"\n",
    "\n",
    "for i in range(128):\n",
    "    file_num = i + 1\n",
    "    file_name = \"data/\" + directory + \"/\" + \"LFP_ch\" + str(file_num) + \".mat\"\n",
    "    mat = sp.io.loadmat(file_name)\n",
    "    data.append(mat[\"LFP\"][0])\n",
    "\n",
    "data = np.transpose(data)"
   ]
  },
  {
   "cell_type": "code",
   "execution_count": 4,
   "metadata": {},
   "outputs": [],
   "source": [
    "#given a directory, load the ECoG files in that directory as channels\n",
    "data = []\n",
    "directory = \"20100615S1_EMT_K2_YasuoNagasaka-ZenasChao_mat_ECoG128-Event3-Eye9\"\n",
    "\n",
    "for i in range(128):\n",
    "    file_num = i + 1\n",
    "    file_name = \"data/\" + directory + \"/\" + \"ECoG_ch\" + str(file_num) + \".mat\"\n",
    "    key_name = \"ECoGData_ch\" + str(file_num)\n",
    "    mat = sp.io.loadmat(file_name)\n",
    "    data.append(mat[key_name][0])\n",
    "\n",
    "data = np.transpose(data)"
   ]
  },
  {
   "cell_type": "code",
   "execution_count": 5,
   "metadata": {},
   "outputs": [
    {
     "data": {
      "text/plain": [
       "array([[ -317.13802431,  -205.26757794,   389.46054606, ...,\n",
       "          140.17674278,   210.14698651,   -71.04987274],\n",
       "       [ -462.82068471,   -85.87709717,   402.82203493, ...,\n",
       "          131.62626229,   272.69151251,   -45.40821016],\n",
       "       [ -604.10382519,    73.70555376,   417.80922876, ...,\n",
       "          174.76928523,   284.99060855,   -41.23305795],\n",
       "       ...,\n",
       "       [-1741.97269689,  -677.39642271,   535.16914288, ...,\n",
       "         -216.52411908,  -254.89408299,   -55.55312918],\n",
       "       [-1630.55325302,  -762.99442861,   543.94702849, ...,\n",
       "         -206.89298803,  -217.58208531,   -91.49007388],\n",
       "       [-1547.38944362,  -802.68831818,   493.66122506, ...,\n",
       "         -185.03357834,  -158.70182031,  -108.87621578]])"
      ]
     },
     "execution_count": 5,
     "metadata": {},
     "output_type": "execute_result"
    }
   ],
   "source": [
    "#perform PCA on the data matrix\n",
    "from sklearn.decomposition import PCA\n",
    "\n",
    "pca = PCA(0.9)\n",
    "pca.fit(data)\n",
    "num_components = pca.n_components_\n",
    "pca_matrix = pca.transform(data)\n",
    "pca_matrix"
   ]
  },
  {
   "cell_type": "code",
   "execution_count": 6,
   "metadata": {},
   "outputs": [
    {
     "data": {
      "text/plain": [
       "53"
      ]
     },
     "execution_count": 6,
     "metadata": {},
     "output_type": "execute_result"
    }
   ],
   "source": [
    "num_components"
   ]
  },
  {
   "cell_type": "code",
   "execution_count": 7,
   "metadata": {},
   "outputs": [],
   "source": [
    "from sklearn.decomposition import FastICA\n",
    "\n",
    "#Perfom ICA on the raw data with the recieved number of components.\n",
    "ica = FastICA(n_components=num_components)\n",
    "ica.fit(data)\n",
    "ica_data = ica.transform(data)"
   ]
  },
  {
   "cell_type": "code",
   "execution_count": 8,
   "metadata": {},
   "outputs": [
    {
     "name": "stdout",
     "output_type": "stream",
     "text": [
      "Creating RawArray with float64 data, n_channels=53, n_times=2166833\n",
      "    Range : 0 ... 2166832 =      0.000 ...  2166.832 secs\n",
      "Ready.\n"
     ]
    }
   ],
   "source": [
    "#load a mat file into mne\n",
    "'''\n",
    "we should be able to directly load a mat file with something like this, but I couldn't get it to work\n",
    "    example_eeg = mne.io.read_raw_fieldtrip('data/20110706/LFP_ch1.mat', info=None, data_name='LFP')\n",
    "instead I used this tutorial\n",
    "https://mne.tools/stable/auto_tutorials/simulation/10_array_objs.html\n",
    "'''\n",
    "\n",
    "#create info\n",
    "n_channels = num_components\n",
    "sampling_freq = 1000\n",
    "info = mne.create_info(n_channels, sfreq=sampling_freq)\n",
    "\n",
    "#load the data from the scipy loaded mat:\n",
    "#data would be a 2d np array where each row is loaded from one of the mat files as above\n",
    "ica_data = np.transpose(ica_data)\n",
    "raw = mne.io.RawArray(ica_data, info)\n"
   ]
  },
  {
   "cell_type": "code",
   "execution_count": 9,
   "metadata": {},
   "outputs": [
    {
     "name": "stdout",
     "output_type": "stream",
     "text": [
      "Not setting metadata\n",
      "5 matching events found\n",
      "No baseline correction applied\n",
      "0 projection items activated\n"
     ]
    }
   ],
   "source": [
    "#epochs testing space\n",
    "\n",
    "times = np.linspace(0, 1, sampling_freq, endpoint=False)\n",
    "sine = np.sin(20 * np.pi * times)\n",
    "cosine = np.cos(10 * np.pi * times)\n",
    "\n",
    "test_data = np.array(\n",
    "    [\n",
    "        [0.2 * sine, 1.0 * cosine],\n",
    "        [0.4 * sine, 0.8 * cosine],\n",
    "        [0.6 * sine, 0.6 * cosine],\n",
    "        [0.8 * sine, 0.4 * cosine],\n",
    "        [1.0 * sine, 0.2 * cosine],\n",
    "    ]\n",
    ")\n",
    "\n",
    "test_info = mne.create_info(\n",
    "    ch_names=[\"10 Hz sine\", \"5 Hz cosine\"], ch_types=[\"misc\"] * 2, sfreq=sampling_freq\n",
    ")\n",
    "\n",
    "simulated_epochs = mne.EpochsArray(test_data, test_info)\n",
    "# simulated_epochs.plot(picks=\"misc\", show_scrollbars=False, events=True)"
   ]
  },
  {
   "cell_type": "code",
   "execution_count": 10,
   "metadata": {},
   "outputs": [
    {
     "name": "stdout",
     "output_type": "stream",
     "text": [
      "7050\n"
     ]
    }
   ],
   "source": [
    "#reorganize the ICA matrix into epochs based on trial start times\n",
    "events = pd.read_csv(\"data/20100615S1_EMT_K2_YasuoNagasaka-ZenasChao_csv_ECoG128-Event3-Eye9/Event.csv\")\n",
    "\n",
    "cons_matrix = np.transpose(ica_data)\n",
    "\n",
    "#determine epoch length\n",
    "min_epoch_len = 9999999\n",
    "prev_index = 0\n",
    "for i, event in events.iterrows():\n",
    "    curr_index = event.EventIndex\n",
    "    epoch_len = curr_index - prev_index\n",
    "    prev_index = curr_index\n",
    "    if epoch_len < min_epoch_len:\n",
    "        min_epoch_len = int(epoch_len)\n",
    "\n",
    "print(min_epoch_len)\n",
    "\n",
    "#construct the final epoch matrix of shape (epochs, channels, samples)\n",
    "transposed_ica = np.transpose(ica_data)\n",
    "epoch_matrix = []\n",
    "for i, event in events.iterrows():\n",
    "    epoch_matrix.append(np.transpose(transposed_ica[int(event.EventIndex) : int(event.EventIndex) + min_epoch_len]))\n",
    "\n",
    "#drop last incomplete entry\n",
    "epoch_matrix = epoch_matrix[:-1]"
   ]
  },
  {
   "cell_type": "code",
   "execution_count": 11,
   "metadata": {},
   "outputs": [
    {
     "data": {
      "text/plain": [
       "53"
      ]
     },
     "execution_count": 11,
     "metadata": {},
     "output_type": "execute_result"
    }
   ],
   "source": [
    "len(epoch_matrix[0])"
   ]
  },
  {
   "cell_type": "code",
   "execution_count": null,
   "metadata": {},
   "outputs": [
    {
     "name": "stdout",
     "output_type": "stream",
     "text": [
      "Not setting metadata\n",
      "299 matching events found\n",
      "No baseline correction applied\n",
      "0 projection items activated\n",
      "Fmin was not specified. Using fmin=min(freqs)\n",
      "Fmax was not specified. Using fmax=max(freqs).\n",
      "only using indices for lower-triangular matrix\n"
     ]
    },
    {
     "name": "stderr",
     "output_type": "stream",
     "text": [
      "/var/folders/h4/4cv1z9d55rx_jyg7_gj_cs5r0000gn/T/ipykernel_84747/890131664.py:6: RuntimeWarning: There were no Annotations stored in <EpochsArray |  299 events (all good), 0 – 7.049 s, baseline off, ~852.4 MB, data loaded,\n",
      " '1': 299>, so metadata was not modified.\n",
      "  test = spectral_connectivity_time(test_epochs, freqs=[10, 20, 30])\n"
     ]
    },
    {
     "ename": "",
     "evalue": "",
     "output_type": "error",
     "traceback": [
      "\u001b[1;31mThe Kernel crashed while executing code in the the current cell or a previous cell. Please review the code in the cell(s) to identify a possible cause of the failure. Click <a href='https://aka.ms/vscodeJupyterKernelCrash'>here</a> for more info. View Jupyter <a href='command:jupyter.viewOutput'>log</a> for further details."
     ]
    }
   ],
   "source": [
    "#testing out some connectivity stuff\n",
    "from mne_connectivity import spectral_connectivity_time\n",
    "\n",
    "test_epochs = mne.EpochsArray(epoch_matrix, info)\n",
    "\n",
    "# this line currently crashes the kernal\n",
    "# test = spectral_connectivity_time(test_epochs, freqs=[10, 20, 30])"
   ]
  }
 ],
 "metadata": {
  "kernelspec": {
   "display_name": ".venv",
   "language": "python",
   "name": "python3"
  },
  "language_info": {
   "codemirror_mode": {
    "name": "ipython",
    "version": 3
   },
   "file_extension": ".py",
   "mimetype": "text/x-python",
   "name": "python",
   "nbconvert_exporter": "python",
   "pygments_lexer": "ipython3",
   "version": "3.11.3"
  }
 },
 "nbformat": 4,
 "nbformat_minor": 2
}
