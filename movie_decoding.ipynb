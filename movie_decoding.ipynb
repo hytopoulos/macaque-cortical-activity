{
 "cells": [
  {
   "cell_type": "code",
   "execution_count": 55,
   "metadata": {},
   "outputs": [],
   "source": [
    "import sklearn as sk\n",
    "import scipy as sp\n",
    "import mne\n",
    "import numpy as np"
   ]
  },
  {
   "cell_type": "code",
   "execution_count": 56,
   "metadata": {},
   "outputs": [
    {
     "data": {
      "text/plain": [
       "{'__header__': b'MATLAB 5.0 MAT-file, Platform: MACI, Created on: Thu Jul  7 19:42:14 2011',\n",
       " '__version__': '1.0',\n",
       " '__globals__': [],\n",
       " 'LFP': array([[-136, -123, -122, ...,  -38,  -20,   -5]], dtype=int16)}"
      ]
     },
     "execution_count": 56,
     "metadata": {},
     "output_type": "execute_result"
    }
   ],
   "source": [
    "#Load a mat file and corresponding metadata\n",
    "example_mat = sp.io.loadmat('data/20110706/LFP_ch1.mat')\n",
    "example_time_info = sp.io.loadmat('data/20110706/Movie_start_time.mat')\n",
    "example_task_info = sp.io.loadmat('data/20110706/Task_info.mat')\n",
    "\n",
    "example_mat"
   ]
  },
  {
   "cell_type": "code",
   "execution_count": 57,
   "metadata": {},
   "outputs": [
    {
     "ename": "NameError",
     "evalue": "name 'DUMMY' is not defined",
     "output_type": "error",
     "traceback": [
      "\u001b[0;31m---------------------------------------------------------------------------\u001b[0m",
      "\u001b[0;31mNameError\u001b[0m                                 Traceback (most recent call last)",
      "\u001b[1;32m/Users/iand/Desktop/CompNeuro/final_scratchwork/movie_decoding.ipynb Cell 3\u001b[0m line \u001b[0;36m1\n\u001b[1;32m     <a href='vscode-notebook-cell:/Users/iand/Desktop/CompNeuro/final_scratchwork/movie_decoding.ipynb#W4sZmlsZQ%3D%3D?line=11'>12</a>\u001b[0m info \u001b[39m=\u001b[39m mne\u001b[39m.\u001b[39mcreate_info(n_channels, sfreq\u001b[39m=\u001b[39msampling_freq)\n\u001b[1;32m     <a href='vscode-notebook-cell:/Users/iand/Desktop/CompNeuro/final_scratchwork/movie_decoding.ipynb#W4sZmlsZQ%3D%3D?line=13'>14</a>\u001b[0m \u001b[39m#load the data from the scipy loaded mat:\u001b[39;00m\n\u001b[1;32m     <a href='vscode-notebook-cell:/Users/iand/Desktop/CompNeuro/final_scratchwork/movie_decoding.ipynb#W4sZmlsZQ%3D%3D?line=14'>15</a>\u001b[0m \u001b[39m#data would be a 2d np array where each row is loaded from one of the mat files as above\u001b[39;00m\n\u001b[0;32m---> <a href='vscode-notebook-cell:/Users/iand/Desktop/CompNeuro/final_scratchwork/movie_decoding.ipynb#W4sZmlsZQ%3D%3D?line=15'>16</a>\u001b[0m data \u001b[39m=\u001b[39m DUMMY\n\u001b[1;32m     <a href='vscode-notebook-cell:/Users/iand/Desktop/CompNeuro/final_scratchwork/movie_decoding.ipynb#W4sZmlsZQ%3D%3D?line=16'>17</a>\u001b[0m raw \u001b[39m=\u001b[39m mne\u001b[39m.\u001b[39mio\u001b[39m.\u001b[39mRawArray(data, info)\n\u001b[1;32m     <a href='vscode-notebook-cell:/Users/iand/Desktop/CompNeuro/final_scratchwork/movie_decoding.ipynb#W4sZmlsZQ%3D%3D?line=17'>18</a>\u001b[0m raw\u001b[39m.\u001b[39mplot()\n",
      "\u001b[0;31mNameError\u001b[0m: name 'DUMMY' is not defined"
     ]
    }
   ],
   "source": [
    "#load a mat file into mne\n",
    "'''\n",
    "we should be able to directly load a mat file with something like this, but I couldn't get it to work\n",
    "    example_eeg = mne.io.read_raw_fieldtrip('data/20110706/LFP_ch1.mat', info=None, data_name='LFP')\n",
    "instead I used this tutorial\n",
    "https://mne.tools/stable/auto_tutorials/simulation/10_array_objs.html\n",
    "'''\n",
    "\n",
    "#create info\n",
    "n_channels = 128\n",
    "sampling_freq = 1000\n",
    "info = mne.create_info(n_channels, sfreq=sampling_freq)\n",
    "\n",
    "#load the data from the scipy loaded mat:\n",
    "#data would be a 2d np array where each row is loaded from one of the mat files as above\n",
    "data = DUMMY\n",
    "raw = mne.io.RawArray(data, info)\n",
    "raw.plot()\n"
   ]
  }
 ],
 "metadata": {
  "kernelspec": {
   "display_name": ".venv",
   "language": "python",
   "name": "python3"
  },
  "language_info": {
   "codemirror_mode": {
    "name": "ipython",
    "version": 3
   },
   "file_extension": ".py",
   "mimetype": "text/x-python",
   "name": "python",
   "nbconvert_exporter": "python",
   "pygments_lexer": "ipython3",
   "version": "3.11.3"
  }
 },
 "nbformat": 4,
 "nbformat_minor": 2
}
